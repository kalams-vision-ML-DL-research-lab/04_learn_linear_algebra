{
 "cells": [
  {
   "cell_type": "markdown",
   "id": "8081f1d0",
   "metadata": {},
   "source": [
    "# print(\"Linear_Algebra\") \n",
    "# linear algebra basics for ML. \n",
    "#data reprensentation\n",
    "#vector space\n",
    "#span of the vector space\n",
    "#basis"
   ]
  },
  {
   "cell_type": "code",
   "execution_count": null,
   "id": "afa74503",
   "metadata": {},
   "outputs": [],
   "source": [
    "from scipy import linalg \n",
    "from scipy.linalg import inv \n",
    "import numpy as np"
   ]
  },
  {
   "cell_type": "markdown",
   "id": "e530a00a",
   "metadata": {},
   "source": [
    "# Vector Space\n",
    "#Set vectors of R^n( i.e. all the vector having same dimensions). and on which the rule of addition and scalar multiplication can be applied. \n",
    "\n",
    "#\n",
    "\n",
    "\n"
   ]
  },
  {
   "cell_type": "markdown",
   "id": "8955c792",
   "metadata": {},
   "source": [
    "# forming the system of linear equations to solve real world problems.\n",
    "#i.e\n",
    "#In a laptop showroom there are laptops with RAM: 4GB, 8GB, and 16GB of different companies: A, B and C. Last week, the showroom sold 2, 1 and 3 laptops with 4GB RAM of companies A, B, and C respectively; 1, 2 and 1 laptops with 8GB RAM of companies A, B, and C respectively; and 2, 3 and 3 laptops with 16GB RAM of companies A, B and C respectively. The pricesof laptops with a particular GB Ram are the same irrespective of the company (i.e., laptops of companies A, B and C with 4GB RAM have the same price; similarly, laptopsof companies A, B and C with 8GB RAM have the same price; and laptopsof companies A, B and C with 16GB RAM have the same price). The owner of showroom earned ₹14, 17 and 18 (in ten thousand) in that week by selling laptop of companies A, B and C respectively.\n",
    "\n",
    "Using the above information, form the system of linear equations and find the matrix representation of the system of linear equations to find the prices of 1 laptop with 4GB, 1 laptop with 8GM and 1 laptop 16 GB.\n",
    "\n",
    "sol.\n",
    "#p, q, r = 4GB, 8GB, 16GB( Columns)\n",
    "\n",
    "#Owners_urning in a week by selling loptops of company A, B, C = [14, 17, 18]\n",
    "\n",
    "row1(for company A) = 2p + 1q + 3r = 14 \n",
    "row2(for company B) = 1p + 2q + 3r = 17 \n",
    "row3(for company C) = 3p + 1q + 3r = 18 \n"
   ]
  },
  {
   "cell_type": "code",
   "execution_count": 3,
   "id": "5be7662d",
   "metadata": {},
   "outputs": [
    {
     "name": "stdout",
     "output_type": "stream",
     "text": [
      "[[2 1 3]\n",
      " [1 2 3]\n",
      " [3 1 3]]\n",
      "\n",
      "2\n",
      "\n",
      "int32\n",
      "\n",
      "(3, 3)\n",
      "\n",
      "Company_A:[[2 1 3]]=14\n",
      "Company_B:[[1 2 3]]=17\n",
      "Company_C:[[3 1 3]]=18\n"
     ]
    }
   ],
   "source": [
    "import numpy as np\n",
    "\n",
    "df = np.matrix([[2,1,3],[1,2,3],[3,1,3]])\n",
    "\n",
    "print(df) #representation.\n",
    "print()\n",
    "print(df.ndim)\n",
    "print()\n",
    "print(df.dtype)\n",
    "print()\n",
    "print(df.shape)\n",
    "print()\n",
    "print(f\"Company_A:{df[0]}=14\")\n",
    "print(f\"Company_B:{df[1]}=17\")\n",
    "print(f\"Company_C:{df[2]}=18\")\n"
   ]
  },
  {
   "cell_type": "code",
   "execution_count": null,
   "id": "70517cbf",
   "metadata": {},
   "outputs": [],
   "source": [
    "\n",
    "\n",
    "\n"
   ]
  }
 ],
 "metadata": {
  "kernelspec": {
   "display_name": "base",
   "language": "python",
   "name": "python3"
  },
  "language_info": {
   "codemirror_mode": {
    "name": "ipython",
    "version": 3
   },
   "file_extension": ".py",
   "mimetype": "text/x-python",
   "name": "python",
   "nbconvert_exporter": "python",
   "pygments_lexer": "ipython3",
   "version": "3.12.7"
  }
 },
 "nbformat": 4,
 "nbformat_minor": 5
}
